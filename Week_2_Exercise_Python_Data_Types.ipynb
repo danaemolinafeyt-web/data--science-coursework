{
  "nbformat": 4,
  "nbformat_minor": 0,
  "metadata": {
    "colab": {
      "provenance": [],
      "authorship_tag": "ABX9TyNMLXeNuBQ84BU62tG/GM/N",
      "include_colab_link": true
    },
    "kernelspec": {
      "name": "python3",
      "display_name": "Python 3"
    },
    "language_info": {
      "name": "python"
    }
  },
  "cells": [
    {
      "cell_type": "markdown",
      "metadata": {
        "id": "view-in-github",
        "colab_type": "text"
      },
      "source": [
        "<a href=\"https://colab.research.google.com/github/danaemolinafeyt-web/data--science-coursework/blob/main/Week_2_Exercise_Python_Data_Types.ipynb\" target=\"_parent\"><img src=\"https://colab.research.google.com/assets/colab-badge.svg\" alt=\"Open In Colab\"/></a>"
      ]
    },
    {
      "cell_type": "code",
      "source": [
        "#Key Python Variable Types\n",
        "#Text Type:\tstr; you can use single quotes or double quotes\n",
        "str1 = \"Hello to you\"\n",
        "str2 = 'and Good morning'\n",
        "#You can display variables with print()\n",
        "print(str1, str2)\n",
        "#and you can use type() to get the type of a variable\n",
        "print('variable str1 var has type:', type(str1))\n",
        "#Numeric Types:\tint, float, complex\n",
        "#int\n",
        "num1 = 6\n",
        "print('variable num1 has type:',type(num1))\n",
        "#float\n",
        "num2=1.3\n",
        "print('variable num2 has type:',type(num2))\n",
        "type(num2)\n",
        "#Sequence Types:\tlist, tuple, range\n",
        "#a list\n",
        "list1 = ['hello','to','you']\n",
        "print('variable list1 has type:',type(list1))\n",
        "#lists support different types of elements\n",
        "list2 = ['hello',1,'you',6.3,'yes',7,2.3]\n",
        "#equivalent\n",
        "list3 = list(('hello',1,'you',6.3,'yes',7,2.3))\n",
        "#you can print elements of the string\n",
        "#first element is list2[0] and last is list2[len(list2)-1]\n",
        "#len() gives you the length---but since we start at 0, we have to subtract one\n",
        "print(list2[0],list2[len(list2)-1])\n",
        "print(\"list2:\",list2[0], list2[1],list2[4:6])\n",
        "print(\"list3\",list3[0], list3[1],list3[4:6])\n",
        "print('variable list2 has type:',type(list2))\n",
        "#Now we modify the first element of list2\n",
        "list2[0] = 'Yes indeed'\n",
        "#and we see the list changed\n",
        "print('list2=',list2)\n",
        "\n",
        "#This example loops through all items of list3\n",
        "#and if they are of type str, then it appends 'of course'\n",
        "for i in range(len(list3)):\n",
        "  if str(type(list3[i])) == \"<class 'str'>\":\n",
        "    list3[i]=list3[i] + \" of course\"\n",
        "print('list3=',list3)\n",
        "\n",
        "#A tuple is similar to a list but the elements are immutable\n",
        "tuple1 = ('hello',1,'you',6.3,'yes',7,2.3)\n",
        "print(tuple1,type(tuple1))\n",
        "#But if we try to change an element we get an error\n",
        "#TypeError: 'tuple' object does not support item assignment\n",
        "#Uncomment this next line to see the error:\n",
        "#tuple1[0]='Yes indeed'\n",
        "#Boolean Type:\tbool\n",
        "bool1 = True\n",
        "bool2 = False\n",
        "#we get false for this comparison\n",
        "print(\"This should be false:\", bool1 == bool2)\n",
        "#and we get true for this one\n",
        "print(\"This should be True:\",bool2 == bool2)\n",
        "\n"
      ],
      "metadata": {
        "colab": {
          "base_uri": "https://localhost:8080/"
        },
        "id": "ntaH3JHqyStW",
        "outputId": "805e0b85-cb27-4a0a-93e5-c7451b6ef5d7"
      },
      "execution_count": 2,
      "outputs": [
        {
          "output_type": "stream",
          "name": "stdout",
          "text": [
            "Hello to you and Good morning\n",
            "variable str1 var has type: <class 'str'>\n",
            "variable num1 has type: <class 'int'>\n",
            "variable num2 has type: <class 'float'>\n",
            "variable list1 has type: <class 'list'>\n",
            "hello 2.3\n",
            "list2: hello 1 ['yes', 7]\n",
            "list3 hello 1 ['yes', 7]\n",
            "variable list2 has type: <class 'list'>\n",
            "list2= ['Yes indeed', 1, 'you', 6.3, 'yes', 7, 2.3]\n",
            "list3= ['hello of course', 1, 'you of course', 6.3, 'yes of course', 7, 2.3]\n",
            "('hello', 1, 'you', 6.3, 'yes', 7, 2.3) <class 'tuple'>\n",
            "This should be false: False\n",
            "This should be True: True\n"
          ]
        }
      ]
    },
    {
      "cell_type": "code",
      "source": [
        "# My practice code before assignment.\n",
        "a = \"hello\" #string\n",
        "b = 7       #integer\n",
        "c = 2.3     #float\n",
        "d = [a,b,c] #list with all 3 types.\n",
        "\n",
        "print(a, type(a))\n",
        "print(b, type(b))\n",
        "print(c, type(c))\n",
        "print(d, type(d))"
      ],
      "metadata": {
        "colab": {
          "base_uri": "https://localhost:8080/"
        },
        "id": "uSy9gqIfz_8t",
        "outputId": "f1dbdcf1-6a97-4183-c8a0-04154679a7dd"
      },
      "execution_count": 4,
      "outputs": [
        {
          "output_type": "stream",
          "name": "stdout",
          "text": [
            "hello <class 'str'>\n",
            "7 <class 'int'>\n",
            "2.3 <class 'float'>\n",
            "['hello', 7, 2.3] <class 'list'>\n"
          ]
        }
      ]
    },
    {
      "cell_type": "code",
      "source": [
        "# Practicing if-statement + type checking\n",
        "\n",
        "x = 7\n",
        "y = 2.5\n",
        "z = \"hello\"\n",
        "\n",
        "# Using the type() with if\n",
        "if type(x) == int:\n",
        "    print(\"x is an integer\")\n",
        "if type(y) == float:\n",
        "    print(\"y is a float\")\n",
        "if type(z) == str:\n",
        "    print(\"z is a string\")\n"
      ],
      "metadata": {
        "colab": {
          "base_uri": "https://localhost:8080/"
        },
        "id": "SOj78T3C0s8g",
        "outputId": "9318f647-1a67-4193-abe8-20e32efb9a39"
      },
      "execution_count": 6,
      "outputs": [
        {
          "output_type": "stream",
          "name": "stdout",
          "text": [
            "x is an integer\n",
            "y is a float\n",
            "z is a string\n"
          ]
        }
      ]
    },
    {
      "cell_type": "code",
      "source": [
        "# Why use elif?\n",
        "# if checks condition\n",
        "# elif (else if) checks another condition if the first one wasn't true.\n",
        "# else is the \"catch-all\" if none match.\n",
        "\n",
        "# Every if / elif / else chain must start with / if /\n",
        "# You can use elif condition as many times as you want\n",
        "# You can only use else once! and it has to be last."
      ],
      "metadata": {
        "id": "9jl85hNX2tBO"
      },
      "execution_count": 7,
      "outputs": []
    },
    {
      "cell_type": "code",
      "source": [
        "value = 99\n",
        "\n",
        "if type(value) == str: # My starting condition\n",
        "    print(\"value is a string\")\n",
        "elif type(value) == float:    # The next to is checking if it is one of those conditions if it does not meet the if condition.\n",
        "    print(\"value is a float\")\n",
        "elif type(value) == int:\n",
        "    print(\"value is an integer\")\n",
        "else:                             # The else is activated if none of the above conditions are met.\n",
        "    print(\"Value is something else\")"
      ],
      "metadata": {
        "colab": {
          "base_uri": "https://localhost:8080/"
        },
        "id": "htrUQA852v-P",
        "outputId": "cf826aa3-d651-46f5-9aff-ebf2199983a3"
      },
      "execution_count": 8,
      "outputs": [
        {
          "output_type": "stream",
          "name": "stdout",
          "text": [
            "value is an integer\n"
          ]
        }
      ]
    },
    {
      "cell_type": "code",
      "source": [
        "# How lists work with indexes\n",
        "# A list is like a row of boxes, each with a number (index)\n",
        "# Python always starts counting at 0"
      ],
      "metadata": {
        "id": "pAhh1Y_C4eIk"
      },
      "execution_count": null,
      "outputs": []
    },
    {
      "cell_type": "code",
      "source": [
        "list2 = ['hello', 1, 'you', 6.3, 'yes', 7, 2.3]\n",
        "\n",
        "index:     0      1     2     3     4   5    6"
      ],
      "metadata": {
        "id": "bgfDAk_g7CO-"
      },
      "execution_count": null,
      "outputs": []
    },
    {
      "cell_type": "markdown",
      "source": [],
      "metadata": {
        "id": "6c8lBVGm7Y0C"
      }
    },
    {
      "cell_type": "code",
      "source": [
        "# list2[0] -> 'hello'\n",
        "# list2[1] -> 1\n",
        "# list2[6] -> 2.3"
      ],
      "metadata": {
        "id": "jYl1a5bg7dTQ"
      },
      "execution_count": null,
      "outputs": []
    },
    {
      "cell_type": "code",
      "source": [
        "# len(list2)\n",
        "# len(list2) gives you how many items are in the list -> here its 7\n",
        "# But since indexes staret at 0, the last index is len(list2) - 1 -> 6\n",
        "    # So list2[len(list2)-1] is the same as list2[6] -> 2.3"
      ],
      "metadata": {
        "id": "Xo-Ro7D27vMD"
      },
      "execution_count": null,
      "outputs": []
    },
    {
      "cell_type": "code",
      "source": [
        "print(list2[0], list2[len(list2)-1])"
      ],
      "metadata": {
        "colab": {
          "base_uri": "https://localhost:8080/"
        },
        "id": "6CnApwMxFPST",
        "outputId": "a1c02df6-962b-49da-b839-531de311e4a7"
      },
      "execution_count": 10,
      "outputs": [
        {
          "output_type": "stream",
          "name": "stdout",
          "text": [
            "Yes indeed 2.3\n"
          ]
        }
      ]
    },
    {
      "cell_type": "code",
      "source": [
        "# Printing slices\n",
        "\n",
        "print(\"list2:\", list2[0], list2[1], list2[4:6])"
      ],
      "metadata": {
        "colab": {
          "base_uri": "https://localhost:8080/"
        },
        "id": "gftZ79LaHdaY",
        "outputId": "d757b614-8aa7-4ef6-ab9e-f2c0f44a82af"
      },
      "execution_count": 11,
      "outputs": [
        {
          "output_type": "stream",
          "name": "stdout",
          "text": [
            "list2: Yes indeed 1 ['yes', 7]\n"
          ]
        }
      ]
    },
    {
      "cell_type": "code",
      "source": [
        "# list2[0] -> 'hello'\n",
        "# list2[1] -> 1\n",
        "# list2[4:6] -> ['yes', 7] ---->. (a slice from index )"
      ],
      "metadata": {
        "id": "mHgwUcXVH1Mw"
      },
      "execution_count": null,
      "outputs": []
    },
    {
      "cell_type": "code",
      "source": [
        "# Modifying a list\n",
        "\n",
        "list2[0] = 'Yes indeed'\n",
        "print('list2=', list2)\n",
        "\n",
        "# Replaces the first element ('hello') with 'yes indeed'\n",
        "# lists are mutable, meaning they can be changed."
      ],
      "metadata": {
        "colab": {
          "base_uri": "https://localhost:8080/"
        },
        "id": "gqqC_7_XfzpM",
        "outputId": "b9e4e18e-0cdc-4029-ac4f-d783b8737cb1"
      },
      "execution_count": 12,
      "outputs": [
        {
          "output_type": "stream",
          "name": "stdout",
          "text": [
            "list2= ['Yes indeed', 1, 'you', 6.3, 'yes', 7, 2.3]\n"
          ]
        }
      ]
    },
    {
      "cell_type": "code",
      "source": [
        "# Index: 0        1     2     3       4       5     6\n",
        "# Value: 'hello'  1   'you'   6.3    'yes'    7     2.3\n",
        "\n",
        "# list2[0] -> look inside box 0 -> 'hello'\n",
        "# list2([len(list2)-1]-> box 6 -> 2.3\n",
        "# list2[4:6]-> boxes 4 and 5 -> 'yes', 7\n",
        "# reassing list2[0] = 'yes indeed' -> now box 0 has a new value\n",
        "\n"
      ],
      "metadata": {
        "id": "0IiB-wufgdXf"
      },
      "execution_count": null,
      "outputs": []
    },
    {
      "cell_type": "markdown",
      "source": [
        "What you are being taught is:\n",
        "\n",
        "- How to access items by index\n",
        "- How to grab first/last item\n",
        "- How to slice multiple items\n",
        "- How to modify a list element."
      ],
      "metadata": {
        "id": "zL5zcscAhdqC"
      }
    },
    {
      "cell_type": "code",
      "source": [
        "# for i in range(len(...))  --> The core of the loop\n",
        "\n",
        "for i in range(len(list3)): # it states lets do something with this list3[i]\n",
        "\n",
        "# len(list3) --> gives how many items are in the list\n",
        "# range(len(list3)) --> creates a seuqence of indexes (0,1,2,...)\n",
        "# i -> takes each index, one at a time.\n",
        "# list3[i]-> grabs the element of that index.\n"
      ],
      "metadata": {
        "id": "5Vihp0Jxhw4P"
      },
      "execution_count": null,
      "outputs": []
    },
    {
      "cell_type": "code",
      "source": [
        "# Practice\n",
        "\n",
        "list3 = ['hello', 1, 'you', 6.3, 'yes', 7, 2.3]\n",
        "\n",
        "for i in range(len(list3)):\n",
        "    print('Index:', i, 'value:', list3[i], 'type:', type(list3[i]))"
      ],
      "metadata": {
        "colab": {
          "base_uri": "https://localhost:8080/"
        },
        "id": "OT_hblmAiojQ",
        "outputId": "596bf735-ce29-4c10-eb5a-a0c828ccdd69"
      },
      "execution_count": 14,
      "outputs": [
        {
          "output_type": "stream",
          "name": "stdout",
          "text": [
            "Index: 0 value: hello type: <class 'str'>\n",
            "Index: 1 value: 1 type: <class 'int'>\n",
            "Index: 2 value: you type: <class 'str'>\n",
            "Index: 3 value: 6.3 type: <class 'float'>\n",
            "Index: 4 value: yes type: <class 'str'>\n",
            "Index: 5 value: 7 type: <class 'int'>\n",
            "Index: 6 value: 2.3 type: <class 'float'>\n"
          ]
        }
      ]
    },
    {
      "cell_type": "code",
      "source": [
        "# Aha moment\n",
        "\n",
        "for i in range (len(list3)):\n",
        "    if str(type(list3[i])) == \"<class 'str'>\":\n",
        "        list3[i] = list3[i] + 'of course'"
      ],
      "metadata": {
        "id": "WLQWpCYhi0hm"
      },
      "execution_count": 18,
      "outputs": []
    },
    {
      "cell_type": "markdown",
      "source": [
        "It is stating\n",
        "- Start at index 0 -> check element -> maybe change it\n",
        "- Move to index 1 -> check element -> maybe change it"
      ],
      "metadata": {
        "id": "8_r0qZjkkOyq"
      }
    },
    {
      "cell_type": "code",
      "source": [
        "# Modfying list itemes in the loop - Practice\n",
        "\n",
        "numbers = [1,2,3,4,5]\n",
        "for i in range(len(numbers)): # this line tells how many items are in the list\n",
        "    numbers[i] = numbers[i] * 2  #this grabs the lement of the index and weve asked to pls multiply.\n",
        "print('modified list:', numbers).    # now we print!"
      ],
      "metadata": {
        "colab": {
          "base_uri": "https://localhost:8080/"
        },
        "id": "lYBD20jHkcdb",
        "outputId": "a0aa46b3-a91c-4598-acb8-1d1b27dc3b0b"
      },
      "execution_count": 19,
      "outputs": [
        {
          "output_type": "stream",
          "name": "stdout",
          "text": [
            "modified list: [2, 4, 6, 8, 10]\n"
          ]
        }
      ]
    },
    {
      "cell_type": "markdown",
      "source": [
        "# **Homework** **Assignment**\n",
        "\n",
        "- Modify the following code, #Datatypes sucha that if the elemtns are of type(class) float, then add 5 to the previous value.\n",
        "This code loops thorugh all items of list3 and if they are of type str, then it appends 'of course' (you should keep this code intact, the output should add 5 to float types and add 'of course' to str types)\n",
        "to indent hit tab."
      ],
      "metadata": {
        "id": "V1Gyo_khlYMB"
      }
    },
    {
      "cell_type": "code",
      "source": [
        "#Datatype\n",
        "\n",
        "list3 = ['hello', 1, 'you', 6.3, 'yes', 7, 2.3]\n",
        "\n",
        "# We are going to use this loop to go through each line,and help us add of course to str, and 5 to floats.\n",
        "\n",
        "for i in range(len(list3)): # command that helps us accomplist what we want with list3\n",
        "    if str(type(list3[i])) == \"<class 'str'>\":  # if statement given to us is going to check the condition if it is class str please + of course\n",
        "      list3[i]=list3[i] + ' of course' # the [i]takes each index one at a time.\n",
        "    elif str(type(list3[i])) == \"<class 'float'>\":  # elif condition would be next, and can be used multiple times, in this case we only need it once.\n",
        "      list3[i]=list3[i] + 5\n",
        "\n",
        "# Once we have met all the conditions we can now print list 3. yay!\n",
        "\n",
        "print('list3 =', list3)"
      ],
      "metadata": {
        "colab": {
          "base_uri": "https://localhost:8080/"
        },
        "id": "VDufIIKKpyGx",
        "outputId": "5f14ceda-f36d-4dff-8eb8-fc652d39ac95"
      },
      "execution_count": 30,
      "outputs": [
        {
          "output_type": "stream",
          "name": "stdout",
          "text": [
            "list3 = ['hello of course', 1, 'you of course', 11.3, 'yes of course', 7, 7.3]\n"
          ]
        }
      ]
    }
  ]
}